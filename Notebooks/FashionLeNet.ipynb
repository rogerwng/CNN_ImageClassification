{
 "cells": [
  {
   "cell_type": "markdown",
   "metadata": {},
   "source": [
    "### LeNet (Convolutional Neural Net)  \n",
    "Roger Wang  \n",
    "UCLA  \n",
    "Application of LeNet CNN architecture on FashionMNIST"
   ]
  },
  {
   "cell_type": "code",
   "execution_count": 1,
   "metadata": {},
   "outputs": [],
   "source": [
    "import torch\n",
    "import matplotlib.pyplot as plt\n",
    "import torchvision\n",
    "from torchvision import transforms\n",
    "from torch.utils.data import DataLoader\n",
    "import torch.nn as nn\n",
    "from torch.nn import functional as F\n",
    "from torch.optim import SGD\n",
    "from tqdm import tqdm"
   ]
  },
  {
   "cell_type": "code",
   "execution_count": 2,
   "metadata": {},
   "outputs": [],
   "source": [
    "# FashionMNIST dataset\n",
    "class FashionMNIST():\n",
    "    def __init__(self, root='../data', batch_size=64, resize=(28,28)):\n",
    "        self.batch_size = batch_size\n",
    "        self.resize = resize\n",
    "\n",
    "        # image transforms, resize and convert to tensor\n",
    "        trans = transforms.Compose([transforms.Resize(resize), transforms.ToTensor()])\n",
    "\n",
    "        # initialize train (60k) and val (10k) sets\n",
    "        self.train = torchvision.datasets.FashionMNIST(root=root,train=True,transform=trans, download=True)\n",
    "        self.val = torchvision.datasets.FashionMNIST(root=root,train=False,transform=trans,download=True)\n",
    "\n",
    "    # data loader for dataset\n",
    "    def get_dataloader(self, train):\n",
    "        data = self.train if train else self.val\n",
    "        return DataLoader(data, self.batch_size, shuffle=train)\n",
    "    \n",
    "    # getting training data\n",
    "    def train_dataloader(self):\n",
    "        return self.get_dataloader(True)\n",
    "    \n",
    "    # getting val data\n",
    "    def val_dataloader(self):\n",
    "        return self.get_dataloader(False)"
   ]
  },
  {
   "cell_type": "code",
   "execution_count": 2,
   "metadata": {},
   "outputs": [],
   "source": [
    "# conv block used in LeNet\n",
    "class ConvBlock(nn.Module):\n",
    "    def __init__(self, channels, c_kernel, c_stride, c_padding, p_kernel, p_stride):\n",
    "        super().__init__()\n",
    "        \n",
    "        self.net = nn.Sequential(nn.LazyConv2d(channels,c_kernel,c_stride,c_padding),\n",
    "                                 nn.ReLU(),\n",
    "                                 nn.MaxPool2d(p_kernel,p_stride))\n",
    "\n",
    "    def forward(self,x):\n",
    "        return self.net(x)\n",
    "\n",
    "# LeNet architecture w/ ReLU, max pooling, and softmax\n",
    "class LeNet(nn.Module):\n",
    "    def __init__(self, outputs, lr, momentum, weight_decay):\n",
    "        super().__init__()\n",
    "        self.lr = lr\n",
    "        self.momentum = momentum\n",
    "        self.weight_decay = weight_decay\n",
    "\n",
    "        self.net = nn.Sequential(ConvBlock(6,5,1,2,2,2), # conv: 6 channels, kernel=5 w 1 stride and 2 padding, pool: kernel = 2, stride 2\n",
    "                                 ConvBlock(16,5,1,0,2,2), # conv: 16 channels no padding\n",
    "                                 nn.Flatten(),\n",
    "                                 nn.LazyLinear(120), nn.ReLU(),\n",
    "                                 nn.Dropout(0.5),\n",
    "                                 nn.LazyLinear(84), nn.ReLU(),\n",
    "                                 nn.Dropout(0.5),\n",
    "                                 nn.LazyLinear(outputs),\n",
    "                                 nn.Dropout(0.5), # dropout on output layer as shown in MLP notebook increases acc\n",
    "                                 )\n",
    "\n",
    "    def forward(self, x):\n",
    "        return self.net(x)\n",
    "\n",
    "    # cross-entropy loss\n",
    "    def loss(self, batch):\n",
    "        logits, labels = batch\n",
    "        return F.cross_entropy(logits, labels) # mean reduction default\n",
    "\n",
    "    def accuracy(self, batch, averaged=True):\n",
    "        logits, labels = batch\n",
    "        logits, labels = logits.to('cpu'), labels.to('cpu')\n",
    "        predict = self.predict(logits).type(labels.dtype)\n",
    "        compare = (predict == labels).type(torch.float32) # bc predict now on cpu\n",
    "        return compare.mean() if averaged else compare\n",
    "\n",
    "    def predict(self, logits):\n",
    "        return logits.argmax(axis=1) # issue w argmax on gpu\n",
    "\n",
    "    def initOptimizer(self):\n",
    "        self.optim = SGD(self.parameters(), self.lr, self.momentum, self.weight_decay)"
   ]
  },
  {
   "cell_type": "code",
   "execution_count": 3,
   "metadata": {},
   "outputs": [],
   "source": [
    "# early stopper and training loop\n",
    "\n",
    "# early stopping class\n",
    "# criterion: validation accuracy\n",
    "class EarlyStop():\n",
    "    def __init__(self, patience, delta=0.003):\n",
    "        self.patience = patience\n",
    "        self.delta = delta\n",
    "        self.best = 0\n",
    "        self.count = 0\n",
    "\n",
    "    def checkForStop(self, acc):\n",
    "        if acc > self.best:\n",
    "            self.best = acc\n",
    "            self.count = 0\n",
    "            return False\n",
    "        elif acc < self.best-self.delta:\n",
    "            if self.count > self.patience:\n",
    "                return True\n",
    "            self.count = self.count + 1\n",
    "            return False\n",
    "        \n",
    "# training loop\n",
    "def train(model, trainloader, valloader, epochs):\n",
    "    train_loss = []\n",
    "    val_loss = []\n",
    "    val_acc = []\n",
    "    model.initOptimizer()\n",
    "    mps = torch.device('mps')\n",
    "    model.to(mps)\n",
    "    stopper = EarlyStop(3)\n",
    "\n",
    "    pbar = tqdm(range(epochs))\n",
    "    for i in range(epochs):\n",
    "        train_loss.append(0)\n",
    "        val_loss.append(0)\n",
    "        val_acc.append(0)\n",
    "\n",
    "        model.train()\n",
    "        # training over batches of train set\n",
    "        for n, (traindata,trainlabel) in enumerate(trainloader):\n",
    "            traindata, trainlabel = traindata.to(mps), trainlabel.to(mps)\n",
    "            model.optim.zero_grad()\n",
    "            logits = model.forward(traindata)\n",
    "            loss = model.loss((logits,trainlabel))\n",
    "            loss.backward()\n",
    "            model.optim.step()\n",
    "\n",
    "            train_loss[i] = train_loss[i] + loss.item()\n",
    "        train_loss[i] = train_loss[i] / len(trainloader)\n",
    "\n",
    "        # validation over batches of val set\n",
    "        model.eval()\n",
    "        for n, (val,vallabel) in enumerate(valloader):\n",
    "            val, vallabel = val.to(mps), vallabel.to(mps)\n",
    "            with torch.no_grad():\n",
    "                logits = model.forward(val)\n",
    "                loss = model.loss((logits,vallabel))\n",
    "                # accuracy needs to be computed on CPU???\n",
    "                accuracy = model.accuracy((logits,vallabel))\n",
    "\n",
    "                val_loss[i] = val_loss[i] + loss.item()\n",
    "                val_acc[i] = val_acc[i] + accuracy\n",
    "        val_loss[i] = val_loss[i] / len(valloader)\n",
    "        val_acc[i] = val_acc[i] / len(valloader)\n",
    "\n",
    "        # update pbar\n",
    "        pbar.update(1)\n",
    "        pbar.set_description(f'val_acc: {val_acc[i]:.3f} train_loss: {train_loss[i]:.3f}')\n",
    "\n",
    "        # check for early stopping\n",
    "        if stopper.checkForStop(val_acc[i]):\n",
    "            break\n",
    "\n",
    "    pbar.close()\n",
    "\n",
    "    # display loss and acc\n",
    "    #plt.plot(train_loss, label='train_loss')\n",
    "    #plt.plot(val_loss, label='val_loss')\n",
    "    plt.plot(val_acc)\n",
    "    plt.xlabel('epoch')\n",
    "    #plt.legend()"
   ]
  },
  {
   "cell_type": "code",
   "execution_count": 47,
   "metadata": {},
   "outputs": [
    {
     "name": "stderr",
     "output_type": "stream",
     "text": [
      "/Users/rogerwang/opt/anaconda3/envs/torchKernel/lib/python3.9/site-packages/torch/nn/modules/lazy.py:181: UserWarning: Lazy modules are a new feature under heavy development so changes to the API or functionality can happen at any moment.\n",
      "  warnings.warn('Lazy modules are a new feature under heavy development '\n"
     ]
    },
    {
     "data": {
      "text/plain": [
       "LeNet(\n",
       "  (net): Sequential(\n",
       "    (0): ConvBlock(\n",
       "      (net): Sequential(\n",
       "        (0): LazyConv2d(0, 6, kernel_size=(5, 5), stride=(1, 1), padding=(2, 2))\n",
       "        (1): ReLU()\n",
       "        (2): MaxPool2d(kernel_size=2, stride=2, padding=0, dilation=1, ceil_mode=False)\n",
       "      )\n",
       "    )\n",
       "    (1): ConvBlock(\n",
       "      (net): Sequential(\n",
       "        (0): LazyConv2d(0, 16, kernel_size=(5, 5), stride=(1, 1))\n",
       "        (1): ReLU()\n",
       "        (2): MaxPool2d(kernel_size=2, stride=2, padding=0, dilation=1, ceil_mode=False)\n",
       "      )\n",
       "    )\n",
       "    (2): Flatten(start_dim=1, end_dim=-1)\n",
       "    (3): LazyLinear(in_features=0, out_features=120, bias=True)\n",
       "    (4): ReLU()\n",
       "    (5): Dropout(p=0.5, inplace=False)\n",
       "    (6): LazyLinear(in_features=0, out_features=84, bias=True)\n",
       "    (7): ReLU()\n",
       "    (8): Dropout(p=0.5, inplace=False)\n",
       "    (9): LazyLinear(in_features=0, out_features=10, bias=True)\n",
       "    (10): Dropout(p=0.5, inplace=False)\n",
       "    (11): Softmax(dim=1)\n",
       "  )\n",
       ")"
      ]
     },
     "execution_count": 47,
     "metadata": {},
     "output_type": "execute_result"
    }
   ],
   "source": [
    "# initialize dataset and model\n",
    "mps = torch.device('mps')\n",
    "data = FashionMNIST(batch_size=128)\n",
    "model = LeNet(10,lr=0.1,momentum=0.5,weight_decay=0.5)\n",
    "model.to(mps)"
   ]
  },
  {
   "cell_type": "code",
   "execution_count": 21,
   "metadata": {},
   "outputs": [
    {
     "name": "stderr",
     "output_type": "stream",
     "text": [
      "val_acc: 0.860 train_loss: 1.908:  71%|███████   | 71/100 [09:36<03:55,  8.12s/it]\n"
     ]
    },
    {
     "data": {
      "image/png": "[encoded data removed]",
      "text/plain": [
       "<Figure size 640x480 with 1 Axes>"
      ]
     },
     "metadata": {},
     "output_type": "display_data"
    }
   ],
   "source": [
    "# train\n",
    "train(model,data.train_dataloader(),data.val_dataloader(),epochs=100)"
   ]
  },
  {
   "cell_type": "markdown",
   "metadata": {},
   "source": [
    "notes during training:  \n",
    "Original LeNet model higher accuracy than MLP, 0.844 vs 0.758 (without output dropout) \n",
    "\n",
    "Added dropout to FC layers to improve score and reduce overfitting, increased score to 0.86 and as high as 0.874, early stoppage in training loop    \n",
    "\n",
    "LeNet has similar accuracy to MLP but trained in much less time/epochs  \n",
    "\n",
    "Dropout was added after output layer which lead to higher val accuracy at 0.883  \n",
    "Similar results were seen when adding dropout to output layer of MLP which had accuracy of 0.860  \n",
    "\n",
    "I hypothesize that noise in target labels contributes to the increase in validation accuracy when adding dropout to the output layer. For example, several categories are visually ambigious, and would be difficult even for me to perfectly categorize, examples: pullover, coat   \n",
    "\n",
    "This shows that label noise and ambiguity make FashionMNIST a good dataset to use dropout at the output layer"
   ]
  }
 ],
 "metadata": {
  "kernelspec": {
   "display_name": "torchKernel",
   "language": "python",
   "name": "python3"
  },
  "language_info": {
   "codemirror_mode": {
    "name": "ipython",
    "version": 3
   },
   "file_extension": ".py",
   "mimetype": "text/x-python",
   "name": "python",
   "nbconvert_exporter": "python",
   "pygments_lexer": "ipython3",
   "version": "3.9.18"
  }
 },
 "nbformat": 4,
 "nbformat_minor": 2
}
